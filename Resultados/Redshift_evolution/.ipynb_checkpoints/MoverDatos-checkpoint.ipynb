{
 "cells": [
  {
   "cell_type": "code",
   "execution_count": 2,
   "metadata": {},
   "outputs": [
    {
     "name": "stdout",
     "output_type": "stream",
     "text": [
      "Populating the interactive namespace from numpy and matplotlib\n"
     ]
    }
   ],
   "source": [
    "%pylab inline\n",
    "import os"
   ]
  },
  {
   "cell_type": "code",
   "execution_count": 3,
   "metadata": {},
   "outputs": [],
   "source": [
    "zz=[0.1,0.3,0.5,0.7,1.0,1.5]\n",
    "nombres=[]\n",
    "for z in zz:\n",
    "    nombres.append('random_spherez{}.dat'.format(z))\n",
    "for z in zz:\n",
    "    nombres.append('spherez{}.dat'.format(z))"
   ]
  },
  {
   "cell_type": "code",
   "execution_count": 4,
   "metadata": {},
   "outputs": [
    {
     "data": {
      "text/plain": [
       "['random_spherez0.1.dat',\n",
       " 'random_spherez0.3.dat',\n",
       " 'random_spherez0.5.dat',\n",
       " 'random_spherez0.7.dat',\n",
       " 'random_spherez1.0.dat',\n",
       " 'random_spherez1.5.dat',\n",
       " 'spherez0.1.dat',\n",
       " 'spherez0.3.dat',\n",
       " 'spherez0.5.dat',\n",
       " 'spherez0.7.dat',\n",
       " 'spherez1.0.dat',\n",
       " 'spherez1.5.dat']"
      ]
     },
     "execution_count": 4,
     "metadata": {},
     "output_type": "execute_result"
    }
   ],
   "source": [
    "nombres"
   ]
  },
  {
   "cell_type": "code",
   "execution_count": 5,
   "metadata": {},
   "outputs": [],
   "source": [
    "for name in nombres:\n",
    "    os.system('cp '+name+' ../../HackingLSSCode/bin')"
   ]
  },
  {
   "cell_type": "code",
   "execution_count": null,
   "metadata": {},
   "outputs": [],
   "source": []
  }
 ],
 "metadata": {
  "kernelspec": {
   "display_name": "Python 3",
   "language": "python",
   "name": "python3"
  },
  "language_info": {
   "codemirror_mode": {
    "name": "ipython",
    "version": 3
   },
   "file_extension": ".py",
   "mimetype": "text/x-python",
   "name": "python",
   "nbconvert_exporter": "python",
   "pygments_lexer": "ipython3",
   "version": "3.7.4"
  }
 },
 "nbformat": 4,
 "nbformat_minor": 2
}
